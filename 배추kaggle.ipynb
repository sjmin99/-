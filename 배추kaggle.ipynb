{
  "nbformat": 4,
  "nbformat_minor": 0,
  "metadata": {
    "colab": {
      "name": "배추kaggle.ipynb",
      "provenance": [],
      "collapsed_sections": [],
      "mount_file_id": "1RypWbkMPqi5e0QCDO19q38yjkN0dbWI2",
      "authorship_tag": "ABX9TyOC7Oi3KqTnDrjq1CVvUEg4",
      "include_colab_link": true
    },
    "kernelspec": {
      "name": "python3",
      "display_name": "Python 3"
    }
  },
  "cells": [
    {
      "cell_type": "markdown",
      "metadata": {
        "id": "view-in-github",
        "colab_type": "text"
      },
      "source": [
        "<a href=\"https://colab.research.google.com/github/sjmin99/2019.Summer.Intern/blob/master/%EB%B0%B0%EC%B6%94kaggle.ipynb\" target=\"_parent\"><img src=\"https://colab.research.google.com/assets/colab-badge.svg\" alt=\"Open In Colab\"/></a>"
      ]
    },
    {
      "cell_type": "code",
      "metadata": {
        "id": "puRcnqDB6nJI",
        "colab_type": "code",
        "colab": {}
      },
      "source": [
        "import pandas as pd\n",
        "import torch\n",
        "import torch.nn.functional as F\n",
        "import numpy as np\n",
        "import torch.optim as optim "
      ],
      "execution_count": 0,
      "outputs": []
    },
    {
      "cell_type": "code",
      "metadata": {
        "id": "vt91scJX6tyJ",
        "colab_type": "code",
        "colab": {
          "base_uri": "https://localhost:8080/",
          "height": 474
        },
        "outputId": "84a7927d-729a-410d-e393-637fa399a1f5"
      },
      "source": [
        "!ls -lha kaggle.json\n",
        "\n",
        "!pip uninstall -y kaggle\n",
        "!pip install --upgrade pip\n",
        "!pip install kaggle==1.5.6\n",
        "\n",
        "!mkdir -p ~/.kaggle\n",
        "!cp kaggle.json ~/.kaggle/\n",
        "! chmod 600 ~/.kaggle/kaggle.json\n",
        "!kaggle -v\n",
        "!kaggle competitions download -c regression-cabbage-price\n",
        "!unzip regression-cabbage-price.zip"
      ],
      "execution_count": 6,
      "outputs": [
        {
          "output_type": "stream",
          "text": [
            "-rw-r--r-- 1 root root 63 May  3 05:12 kaggle.json\n",
            "Found existing installation: kaggle 1.5.6\n",
            "Uninstalling kaggle-1.5.6:\n",
            "  Successfully uninstalled kaggle-1.5.6\n",
            "Requirement already up-to-date: pip in /usr/local/lib/python3.6/dist-packages (20.1)\n",
            "Processing /root/.cache/pip/wheels/01/3e/ff/77407ebac3ef71a79b9166a8382aecf88415a0bcbe3c095a01/kaggle-1.5.6-py3-none-any.whl\n",
            "Requirement already satisfied: urllib3<1.25,>=1.21.1 in /usr/local/lib/python3.6/dist-packages (from kaggle==1.5.6) (1.24.3)\n",
            "Requirement already satisfied: python-dateutil in /usr/local/lib/python3.6/dist-packages (from kaggle==1.5.6) (2.8.1)\n",
            "Requirement already satisfied: certifi in /usr/local/lib/python3.6/dist-packages (from kaggle==1.5.6) (2020.4.5.1)\n",
            "Requirement already satisfied: six>=1.10 in /usr/local/lib/python3.6/dist-packages (from kaggle==1.5.6) (1.12.0)\n",
            "Requirement already satisfied: tqdm in /usr/local/lib/python3.6/dist-packages (from kaggle==1.5.6) (4.38.0)\n",
            "Requirement already satisfied: requests in /usr/local/lib/python3.6/dist-packages (from kaggle==1.5.6) (2.23.0)\n",
            "Requirement already satisfied: python-slugify in /usr/local/lib/python3.6/dist-packages (from kaggle==1.5.6) (4.0.0)\n",
            "Requirement already satisfied: chardet<4,>=3.0.2 in /usr/local/lib/python3.6/dist-packages (from requests->kaggle==1.5.6) (3.0.4)\n",
            "Requirement already satisfied: idna<3,>=2.5 in /usr/local/lib/python3.6/dist-packages (from requests->kaggle==1.5.6) (2.9)\n",
            "Requirement already satisfied: text-unidecode>=1.3 in /usr/local/lib/python3.6/dist-packages (from python-slugify->kaggle==1.5.6) (1.3)\n",
            "Installing collected packages: kaggle\n",
            "Successfully installed kaggle-1.5.6\n",
            "Kaggle API 1.5.6\n",
            "Downloading regression-cabbage-price.zip to /content\n",
            "  0% 0.00/29.7k [00:00<?, ?B/s]\n",
            "100% 29.7k/29.7k [00:00<00:00, 25.2MB/s]\n",
            "Archive:  regression-cabbage-price.zip\n",
            "  inflating: submit_sample.csv       \n",
            "  inflating: test_cabbage_price.csv  \n",
            "  inflating: train_cabbage_price.csv  \n"
          ],
          "name": "stdout"
        }
      ]
    },
    {
      "cell_type": "code",
      "metadata": {
        "id": "fGhwZNKy8YVp",
        "colab_type": "code",
        "colab": {}
      },
      "source": [
        "torch.manual_seed(1)\n",
        "\n",
        "pd_data = pd.read_csv('train_cabbage_price.csv')\n",
        "x_train = torch.FloatTensor(np.array(pd_data.iloc[:,1:5]))\n",
        "y_train = torch.FloatTensor(np.array(pd_data.iloc[:,5]))\n",
        "\n"
      ],
      "execution_count": 0,
      "outputs": []
    },
    {
      "cell_type": "code",
      "metadata": {
        "id": "9YNSzsUS9K07",
        "colab_type": "code",
        "colab": {
          "base_uri": "https://localhost:8080/",
          "height": 210
        },
        "outputId": "60add218-d0d3-444c-dca7-b03e4c453f43"
      },
      "source": [
        "W = torch.zeros((4,1), requires_grad= True)\n",
        "b = torch.zeros(1, requires_grad= True)\n",
        "epochs = 1000\n",
        "lr = 1e-4\n",
        "\n",
        "optimizer = optim.SGD((W,b), lr = lr, momentum=0.9, nesterov= True)\n",
        "\n",
        "for epoch in range(epochs+1):\n",
        "  # import pdb;pdb.set_trace()\n",
        "  H = x_train.matmul(W)+b\n",
        "  # cost = ((H-y_train) ** 2).sum(dim=0).mean()\n",
        "  cost = torch.mean((H-y_train)**2)\n",
        "\n",
        "\n",
        "  optimizer.zero_grad()\n",
        "  cost.backward()\n",
        "  optimizer.step()\n",
        "\n",
        "  if epoch % 100 == 0:\n",
        "    print(\"Epoch : {:4d}/{}, Cost : {:.6f}\".format(\n",
        "        epoch, epochs, cost.item()))\n",
        "    "
      ],
      "execution_count": 43,
      "outputs": [
        {
          "output_type": "stream",
          "text": [
            "Epoch :    0/1000, Cost : 12610920.000000\n",
            "Epoch :  100/1000, Cost : 2456089.250000\n",
            "Epoch :  200/1000, Cost : 2441934.250000\n",
            "Epoch :  300/1000, Cost : 2428242.000000\n",
            "Epoch :  400/1000, Cost : 2414934.750000\n",
            "Epoch :  500/1000, Cost : 2401985.250000\n",
            "Epoch :  600/1000, Cost : 2389397.500000\n",
            "Epoch :  700/1000, Cost : 2377137.500000\n",
            "Epoch :  800/1000, Cost : 2365210.750000\n",
            "Epoch :  900/1000, Cost : 2353608.750000\n",
            "Epoch : 1000/1000, Cost : 2342313.250000\n"
          ],
          "name": "stdout"
        }
      ]
    },
    {
      "cell_type": "code",
      "metadata": {
        "id": "l4KtyUyy-CYC",
        "colab_type": "code",
        "colab": {
          "base_uri": "https://localhost:8080/",
          "height": 140
        },
        "outputId": "8d6b302f-3770-407d-f0cd-3bf6211fcdb4"
      },
      "source": [
        "pd_test = pd.read_csv('test_cabbage_price.csv')"
      ],
      "execution_count": 57,
      "outputs": [
        {
          "output_type": "execute_result",
          "data": {
            "text/plain": [
              "0    13.5\n",
              "1     1.1\n",
              "2    12.0\n",
              "3    16.6\n",
              "4    22.4\n",
              "5    18.8\n",
              "Name: avgTemp, dtype: float64"
            ]
          },
          "metadata": {
            "tags": []
          },
          "execution_count": 57
        }
      ]
    },
    {
      "cell_type": "code",
      "metadata": {
        "id": "-LelIeCWDcun",
        "colab_type": "code",
        "colab": {}
      },
      "source": [
        "x_test = torch.FloatTensor(np.array(pd_test.iloc[:,1:5]))\n",
        "H = x_test.matmul(W)+b\n",
        "\n",
        "Id = np.array([i for i in range(len(x_test))]).reshape(-1,1)\n",
        "\n",
        "Expected = H.detach().numpy().reshape(-1,1)\n",
        "result = np.hstack([Id,Expected])\n",
        "\n",
        "df = pd.DataFrame(result, columns=[\"Id\",\"Expected\"])\n",
        "df = df.astype(int)\n",
        "# df.to_csv(\"result.csv\", index=False, header= True)\n",
        "df.to_csv(\"result.csv\", index=False, header= True)"
      ],
      "execution_count": 0,
      "outputs": []
    },
    {
      "cell_type": "code",
      "metadata": {
        "id": "_RQqLX7yL0v6",
        "colab_type": "code",
        "colab": {
          "base_uri": "https://localhost:8080/",
          "height": 52
        },
        "outputId": "dfa089a1-db58-4b63-a043-23e2cfc1a9da"
      },
      "source": [
        "!kaggle competitions submit -c regression-cabbage-price -f result.csv -m \"Assignment\""
      ],
      "execution_count": 103,
      "outputs": [
        {
          "output_type": "stream",
          "text": [
            "100% 54.0/54.0 [00:00<00:00, 243B/s]\n",
            "Successfully submitted to Regression : Cabbage price"
          ],
          "name": "stdout"
        }
      ]
    },
    {
      "cell_type": "code",
      "metadata": {
        "id": "vOLSv0T8Np7g",
        "colab_type": "code",
        "colab": {}
      },
      "source": [
        ""
      ],
      "execution_count": 0,
      "outputs": []
    }
  ]
}