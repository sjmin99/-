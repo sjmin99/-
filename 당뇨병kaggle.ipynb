{
  "nbformat": 4,
  "nbformat_minor": 0,
  "metadata": {
    "colab": {
      "name": "당뇨병kaggle.ipynb",
      "provenance": [],
      "collapsed_sections": [],
      "mount_file_id": "1RypWbkMPqi5e0QCDO19q38yjkN0dbWI2",
      "authorship_tag": "ABX9TyOqYT5OSYjsJ/VWwsrvsyCH",
      "include_colab_link": true
    },
    "kernelspec": {
      "name": "python3",
      "display_name": "Python 3"
    }
  },
  "cells": [
    {
      "cell_type": "markdown",
      "metadata": {
        "id": "view-in-github",
        "colab_type": "text"
      },
      "source": [
        "<a href=\"https://colab.research.google.com/github/sjmin99/-/blob/master/%EB%8B%B9%EB%87%A8%EB%B3%91kaggle.ipynb\" target=\"_parent\"><img src=\"https://colab.research.google.com/assets/colab-badge.svg\" alt=\"Open In Colab\"/></a>"
      ]
    },
    {
      "cell_type": "code",
      "metadata": {
        "id": "puRcnqDB6nJI",
        "colab_type": "code",
        "colab": {}
      },
      "source": [
        "import pandas as pd\n",
        "import torch\n",
        "import torch.nn.functional as F\n",
        "import numpy as np\n",
        "import torch.optim as optim "
      ],
      "execution_count": 0,
      "outputs": []
    },
    {
      "cell_type": "code",
      "metadata": {
        "id": "vt91scJX6tyJ",
        "colab_type": "code",
        "colab": {
          "base_uri": "https://localhost:8080/",
          "height": 761
        },
        "outputId": "6b68b696-d620-49c0-a5c5-a311851fe199"
      },
      "source": [
        "!ls -lha kaggle.json\n",
        "\n",
        "!pip uninstall -y kaggle\n",
        "!pip install --upgrade pip\n",
        "!pip install kaggle==1.5.6\n",
        "\n",
        "!mkdir -p ~/.kaggle\n",
        "!cp kaggle.json ~/.kaggle/\n",
        "! chmod 600 ~/.kaggle/kaggle.json\n",
        "!kaggle -v\n",
        "\n",
        "!kaggle competitions download -c logistic-classification-diabetes\n",
        "!unzip logistic-classification-diabetes"
      ],
      "execution_count": 2,
      "outputs": [
        {
          "output_type": "stream",
          "text": [
            "-rw-r--r-- 1 root root 63 May  3 11:43 kaggle.json\n",
            "Uninstalling kaggle-1.5.6:\n",
            "  Successfully uninstalled kaggle-1.5.6\n",
            "Collecting pip\n",
            "\u001b[?25l  Downloading https://files.pythonhosted.org/packages/54/2e/df11ea7e23e7e761d484ed3740285a34e38548cf2bad2bed3dd5768ec8b9/pip-20.1-py2.py3-none-any.whl (1.5MB)\n",
            "\u001b[K     |████████████████████████████████| 1.5MB 9.3MB/s \n",
            "\u001b[?25hInstalling collected packages: pip\n",
            "  Found existing installation: pip 19.3.1\n",
            "    Uninstalling pip-19.3.1:\n",
            "      Successfully uninstalled pip-19.3.1\n",
            "Successfully installed pip-20.1\n",
            "Collecting kaggle==1.5.6\n",
            "  Downloading kaggle-1.5.6.tar.gz (58 kB)\n",
            "\u001b[K     |████████████████████████████████| 58 kB 2.4 MB/s \n",
            "\u001b[?25hRequirement already satisfied: urllib3<1.25,>=1.21.1 in /usr/local/lib/python3.6/dist-packages (from kaggle==1.5.6) (1.24.3)\n",
            "Requirement already satisfied: six>=1.10 in /usr/local/lib/python3.6/dist-packages (from kaggle==1.5.6) (1.12.0)\n",
            "Requirement already satisfied: certifi in /usr/local/lib/python3.6/dist-packages (from kaggle==1.5.6) (2020.4.5.1)\n",
            "Requirement already satisfied: python-dateutil in /usr/local/lib/python3.6/dist-packages (from kaggle==1.5.6) (2.8.1)\n",
            "Requirement already satisfied: requests in /usr/local/lib/python3.6/dist-packages (from kaggle==1.5.6) (2.23.0)\n",
            "Requirement already satisfied: tqdm in /usr/local/lib/python3.6/dist-packages (from kaggle==1.5.6) (4.38.0)\n",
            "Requirement already satisfied: python-slugify in /usr/local/lib/python3.6/dist-packages (from kaggle==1.5.6) (4.0.0)\n",
            "Requirement already satisfied: chardet<4,>=3.0.2 in /usr/local/lib/python3.6/dist-packages (from requests->kaggle==1.5.6) (3.0.4)\n",
            "Requirement already satisfied: idna<3,>=2.5 in /usr/local/lib/python3.6/dist-packages (from requests->kaggle==1.5.6) (2.9)\n",
            "Requirement already satisfied: text-unidecode>=1.3 in /usr/local/lib/python3.6/dist-packages (from python-slugify->kaggle==1.5.6) (1.3)\n",
            "Building wheels for collected packages: kaggle\n",
            "  Building wheel for kaggle (setup.py) ... \u001b[?25l\u001b[?25hdone\n",
            "  Created wheel for kaggle: filename=kaggle-1.5.6-py3-none-any.whl size=72859 sha256=9b179527e2eef106d1fdc864f69503b97a3114189857fe7f22d80984ebc0bf6f\n",
            "  Stored in directory: /root/.cache/pip/wheels/01/3e/ff/77407ebac3ef71a79b9166a8382aecf88415a0bcbe3c095a01\n",
            "Successfully built kaggle\n",
            "Installing collected packages: kaggle\n",
            "Successfully installed kaggle-1.5.6\n",
            "Kaggle API 1.5.6\n",
            "Downloading logistic-classification-diabetes.zip to /content\n",
            "  0% 0.00/16.3k [00:00<?, ?B/s]\n",
            "100% 16.3k/16.3k [00:00<00:00, 14.3MB/s]\n",
            "Archive:  logistic-classification-diabetes.zip\n",
            "  inflating: submission_form.csv     \n",
            "  inflating: test_data.csv           \n",
            "  inflating: train.csv               \n"
          ],
          "name": "stdout"
        }
      ]
    },
    {
      "cell_type": "code",
      "metadata": {
        "id": "fGhwZNKy8YVp",
        "colab_type": "code",
        "colab": {}
      },
      "source": [
        "torch.manual_seed(1)\n",
        "\n",
        "pd_data = pd.read_csv('train.csv')\n",
        "x_train = torch.FloatTensor(np.array(pd_data.iloc[:,1:9]))\n",
        "y_train = torch.LongTensor(np.array(pd_data.iloc[:,9]))"
      ],
      "execution_count": 0,
      "outputs": []
    },
    {
      "cell_type": "code",
      "metadata": {
        "id": "9YNSzsUS9K07",
        "colab_type": "code",
        "colab": {
          "base_uri": "https://localhost:8080/",
          "height": 221
        },
        "outputId": "c020257e-8654-44be-f439-3f1722710dec"
      },
      "source": [
        "W = torch.zeros((8,2), requires_grad= True)\n",
        "b = torch.zeros(1, requires_grad= True)\n",
        "\n",
        "epochs = 10000\n",
        "lr = 1e-3\n",
        "\n",
        "optimizer = optim.SGD((W,b), lr = lr, momentum=0.9, nesterov= True)\n",
        "\n",
        "for epoch in range(epochs+1):\n",
        "\n",
        "  H = F.softmax(x_train.matmul(W)+b,dim=1)\n",
        "  y_onehot = torch.zeros(len(y_train),2)\n",
        "  y_onehot = y_onehot.scatter_(1,y_train.unsqueeze(1),1)\n",
        "\n",
        "\n",
        "  cost = (y_onehot * -torch.log(H)).sum(dim=1).mean()\n",
        "\n",
        "\n",
        "  optimizer.zero_grad()\n",
        "  cost.backward()\n",
        "  optimizer.step()\n",
        "\n",
        "  if epoch % 1000 == 0:\n",
        "    print(\"Epoch : {:4d}/{}, Cost : {:.6f}\".format(\n",
        "        epoch, epochs, cost.item()))\n",
        "    "
      ],
      "execution_count": 115,
      "outputs": [
        {
          "output_type": "stream",
          "text": [
            "Epoch :    0/10000, Cost : 0.693147\n",
            "Epoch : 1000/10000, Cost : 0.539839\n",
            "Epoch : 2000/10000, Cost : 0.507774\n",
            "Epoch : 3000/10000, Cost : 0.493156\n",
            "Epoch : 4000/10000, Cost : 0.485530\n",
            "Epoch : 5000/10000, Cost : 0.481176\n",
            "Epoch : 6000/10000, Cost : 0.478525\n",
            "Epoch : 7000/10000, Cost : 0.476828\n",
            "Epoch : 8000/10000, Cost : 0.475695\n",
            "Epoch : 9000/10000, Cost : 0.474911\n",
            "Epoch : 10000/10000, Cost : 0.474351\n"
          ],
          "name": "stdout"
        }
      ]
    },
    {
      "cell_type": "code",
      "metadata": {
        "id": "l4KtyUyy-CYC",
        "colab_type": "code",
        "colab": {}
      },
      "source": [
        "pd_test = pd.read_csv('test_data.csv')"
      ],
      "execution_count": 0,
      "outputs": []
    },
    {
      "cell_type": "code",
      "metadata": {
        "id": "-LelIeCWDcun",
        "colab_type": "code",
        "colab": {}
      },
      "source": [
        "x_test = torch.FloatTensor(np.array(pd_test.iloc[:,1:9]))\n",
        "H = x_test.matmul(W)+b\n",
        "# predict = torch.argmax(H,dim=1)\n",
        "\n",
        "Id = np.array([i for i in range(len(x_test))]).reshape(-1,1)\n",
        "\n",
        "Expected = predict.detach().numpy().reshape(-1,1)\n",
        "result = np.hstack([Id,Expected])\n",
        "\n",
        "df = pd.DataFrame(result, columns=[\"Id\",\"Label\"])\n",
        "df = df.astype(int)\n",
        "# df.to_csv(\"result.csv\", index=False, header= True)\n",
        "df.to_csv(\"result.csv\", index=False, header= True)"
      ],
      "execution_count": 0,
      "outputs": []
    },
    {
      "cell_type": "code",
      "metadata": {
        "id": "_RQqLX7yL0v6",
        "colab_type": "code",
        "colab": {
          "base_uri": "https://localhost:8080/",
          "height": 54
        },
        "outputId": "4fcfc659-bbd7-4be4-c6f7-ae1d9e22bef1"
      },
      "source": [
        "!kaggle competitions submit -c logistic-classification-diabetes -f result.csv -m \"Assignment\""
      ],
      "execution_count": 118,
      "outputs": [
        {
          "output_type": "stream",
          "text": [
            "100% 249/249 [00:03<00:00, 69.3B/s]\n",
            "Successfully submitted to logistic classification : diabetes"
          ],
          "name": "stdout"
        }
      ]
    }
  ]
}